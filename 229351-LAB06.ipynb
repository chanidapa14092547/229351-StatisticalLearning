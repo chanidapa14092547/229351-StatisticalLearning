{
  "cells": [
    {
      "cell_type": "markdown",
      "metadata": {
        "id": "rUWDxJYaXbGS"
      },
      "source": [
        "ปฏิบัติการครั้งที่ 6 กระบวนวิชา 229351 Statistical Learning for Data Science\n",
        "\n",
        "คำชี้แจง\n",
        "\n",
        "ให้เริ่มทำปฏิบัติการจาก colab notebook ที่กำหนดให้ จากนั้น share แล้วส่ง link มาใน mango.cmu.ac.th"
      ]
    },
    {
      "cell_type": "markdown",
      "metadata": {
        "id": "awAs3ZmThKPC"
      },
      "source": [
        "ดาวน์โหลดข้อมูลรถยนต์ชนิดต่างใน link ข้างล่างนี้\n",
        "https://donlapark.pages.dev/229351/data/Auto.csv\n",
        "หรือรันโค้ดข้างล่าง"
      ]
    },
    {
      "cell_type": "code",
      "execution_count": null,
      "metadata": {
        "id": "ntO6KNB7A24q"
      },
      "outputs": [],
      "source": [
        "# import module ที่ต้องใช้\n",
        "import numpy as np\n",
        "import pandas as pd\n",
        "import matplotlib.pyplot as plt\n",
        "from scipy import stats\n",
        "\n",
        "# StatsModels\n",
        "!pip install statsmodels --quiet\n",
        "import statsmodels.api as sm\n",
        "import statsmodels.formula.api as smf\n",
        "\n",
        "# Download the file\n",
        "!wget https://donlapark.pages.dev/229351/data/Auto.csv"
      ]
    },
    {
      "cell_type": "code",
      "execution_count": null,
      "metadata": {
        "id": "O_4Mr2OWaAae"
      },
      "outputs": [],
      "source": [
        "# อ่านไฟล์ csv ก่อนเพื่อหา missing values\n",
        "auto = pd.read_csv('Auto.csv', na_values=[\"?\"])\n",
        "\n",
        "# ลบแถวที่มี missing values\n",
        "auto = auto.dropna()\n",
        "\n",
        "auto = auto.drop(['name', 'origin'],axis=1)\n",
        "\n",
        "auto.head()"
      ]
    },
    {
      "cell_type": "markdown",
      "metadata": {
        "id": "eY77L4kv7SHH"
      },
      "source": [
        "# Linear model diagnosis"
      ]
    },
    {
      "cell_type": "code",
      "execution_count": null,
      "metadata": {
        "id": "xvDqcZfk_qnG"
      },
      "outputs": [],
      "source": [
        "# simple linear regression on Auto dataset\n",
        "auto_lr = smf.ols('mpg ~ horsepower ', data=auto).fit()\n",
        "print(auto_lr.summary())"
      ]
    },
    {
      "cell_type": "markdown",
      "metadata": {
        "id": "fiNuI3HT_dX7"
      },
      "source": [
        "### คำนวณ Residuals $y_i-\\hat{y}_i$"
      ]
    },
    {
      "cell_type": "code",
      "execution_count": null,
      "metadata": {
        "id": "XlOmwZlvQXAR"
      },
      "outputs": [],
      "source": [
        "#Fitted values\n",
        "auto_fitted = auto_lr.predict(auto)\n",
        "\n",
        "#Residuals\n",
        "auto_res = auto['mpg']-auto_fitted\n",
        "\n",
        "print(auto_res)"
      ]
    },
    {
      "cell_type": "markdown",
      "metadata": {
        "id": "TY4DE7KAt_du"
      },
      "source": [
        "### หรือสามารถดึง predictions และ residuals จากโมเดลได้โดยตรง"
      ]
    },
    {
      "cell_type": "code",
      "execution_count": null,
      "metadata": {
        "id": "uLsFyB04uVMQ"
      },
      "outputs": [],
      "source": [
        "# Fitted values\n",
        "auto_fitted_ = auto_lr.fittedvalues\n",
        "\n",
        "# Residuals\n",
        "auto_res_ = auto_lr.resid"
      ]
    },
    {
      "cell_type": "markdown",
      "metadata": {
        "id": "katHIstPTvft"
      },
      "source": [
        "### 1. ทดสอบ non-linearity"
      ]
    },
    {
      "cell_type": "code",
      "execution_count": null,
      "metadata": {
        "id": "z19s30_3ARua"
      },
      "outputs": [],
      "source": [
        "plt.scatter(auto_fitted, auto_res)\n",
        "plt.title('Residuals vs Fitted')\n",
        "plt.xlabel('Fitted values')\n",
        "plt.ylabel('Residuals');"
      ]
    },
    {
      "cell_type": "code",
      "execution_count": null,
      "metadata": {
        "id": "6njJmujsAUNv"
      },
      "outputs": [],
      "source": [
        "plt.scatter(auto_lr.fittedvalues, auto_lr.resid)\n",
        "plt.title('Residuals vs Fitted')\n",
        "plt.xlabel('Fitted values')\n",
        "plt.ylabel('Residuals');\n",
        "\n",
        "print(auto_lr.fittedvalues)"
      ]
    },
    {
      "cell_type": "code",
      "execution_count": null,
      "metadata": {
        "id": "kD8uzgohDRIX"
      },
      "outputs": [],
      "source": [
        "auto_lr2 = smf.ols('mpg ~ horsepower+I(horsepower**2)', data=auto).fit()\n",
        "print(auto_lr2.summary())"
      ]
    },
    {
      "cell_type": "code",
      "execution_count": null,
      "metadata": {
        "id": "yyk9EnXdD0ZU"
      },
      "outputs": [],
      "source": [
        "plt.scatter(auto_lr2.fittedvalues, auto_lr2.resid)\n",
        "plt.title('Residuals vs Fitted')\n",
        "plt.xlabel('Fitted values')\n",
        "plt.ylabel('Residuals');"
      ]
    },
    {
      "cell_type": "markdown",
      "metadata": {
        "id": "Pq4t_YbsvIWZ"
      },
      "source": [
        "### 2. ทดสอบ independence of errors\n",
        "2.1 ตรวจสอบโดยการ plot time vs residuals (ถ้าสามารถทำได้)\n",
        "\n",
        "2.2 ตรวจสอบด้วย Durbin-Wutson test  \n",
        "\n",
        "H0: There is no correlation among the residuals.  \n",
        "H1: The residuals are correlated.\n",
        "\n",
        "The Durbin-Watson statistic ranges in value from 0\n",
        "to 4. A value near 2 indicates non-correlation; a value toward 0 indicates positive\n",
        "correlation; a value toward 4 indicates negative correlation.\n",
        "\n",
        "Reject H0 if d < dL  \n",
        "Accept H0 if d > dU\n",
        "\n",
        "Durbin-Watson table: https://www.real-statistics.com/statistics-tables/durbin-watson-table/"
      ]
    },
    {
      "cell_type": "code",
      "execution_count": null,
      "metadata": {
        "id": "NFJIBKvEvG9b"
      },
      "outputs": [],
      "source": [
        "auto_lr2 = smf.ols('mpg ~ horsepower+I(horsepower**2)', data=auto).fit()\n",
        "print(auto_lr2.summary())"
      ]
    },
    {
      "cell_type": "markdown",
      "metadata": {
        "id": "kNDjv6tHzK-_"
      },
      "source": [
        "### ดูตาราง Durbin-Watson Alpha = .05 n = 350 และ k = 2\n",
        "\n",
        "ได้ค่า dL = 1.813 dU = 1.836\n",
        "\n",
        "ดังนั้น Reject H0 -- มี correlation ระหว่าง residuals"
      ]
    },
    {
      "cell_type": "markdown",
      "metadata": {
        "id": "YRCc6ktRUBkM"
      },
      "source": [
        "### 3. ทดสอบ constant variance"
      ]
    },
    {
      "cell_type": "markdown",
      "metadata": {
        "id": "Ja3nPh3i2AWm"
      },
      "source": [
        "### ใช้ Breush-Pagan test\n",
        "\n",
        "\n",
        "H0: The residuals are distributed with equal variance  \n",
        "H1: The residuals are not distributed with equal variance\n"
      ]
    },
    {
      "cell_type": "code",
      "execution_count": null,
      "metadata": {
        "id": "gN5NT4eD2DC_"
      },
      "outputs": [],
      "source": [
        "import statsmodels.stats.api as sms\n",
        "\n",
        "name = [\"Lagrange multiplier statistic\", \"p-value\", \"f-value\", \"f p-value\"]\n",
        "test = sms.het_breuschpagan(auto_lr2.resid, auto_lr2.model.exog)\n",
        "pd.DataFrame({'Name':name, 'value':test})"
      ]
    },
    {
      "cell_type": "markdown",
      "metadata": {
        "id": "YhIhX3GO4RXn"
      },
      "source": [
        "### p-value < 0.05 ดังนั้น accept H1"
      ]
    },
    {
      "cell_type": "code",
      "execution_count": null,
      "metadata": {
        "id": "vB1M4irSS5yz"
      },
      "outputs": [],
      "source": [
        "auto_lr3 = smf.ols('I(np.log(mpg)) ~ horsepower+I(horsepower**2)', data=auto).fit()\n",
        "print(auto_lr3.summary())"
      ]
    },
    {
      "cell_type": "code",
      "execution_count": null,
      "metadata": {
        "id": "T8DKt5uKTR2p"
      },
      "outputs": [],
      "source": [
        "plt.scatter(auto_lr3.fittedvalues, auto_lr3.resid)\n",
        "plt.title('Residuals vs Fitted')\n",
        "plt.xlabel('Fitted values')\n",
        "plt.ylabel('Residuals');"
      ]
    },
    {
      "cell_type": "markdown",
      "metadata": {
        "id": "meAFjwlWhKPN"
      },
      "source": [
        "### ลอง Breush-Pagan test อีกครั้ง"
      ]
    },
    {
      "cell_type": "code",
      "execution_count": null,
      "metadata": {
        "id": "xlDIkkHqhKPO"
      },
      "outputs": [],
      "source": [
        "name = [\"Lagrange multiplier statistic\", \"p-value\", \"f-value\", \"f p-value\"]\n",
        "test = sms.het_breuschpagan(auto_lr3.resid, auto_lr3.model.exog)\n",
        "pd.DataFrame({'Name':name, 'value':test})"
      ]
    },
    {
      "cell_type": "markdown",
      "metadata": {
        "id": "9Ci2faZOhKPO"
      },
      "source": [
        "### p-value ฬ 0.05 ดังนั้น accept Hจ"
      ]
    },
    {
      "cell_type": "markdown",
      "metadata": {
        "id": "IxMx0OKZU-bb"
      },
      "source": [
        "### 4., 5. หา outliers และ leverage points"
      ]
    },
    {
      "cell_type": "code",
      "execution_count": null,
      "metadata": {
        "id": "-gCRXKb8fkuH"
      },
      "outputs": [],
      "source": [
        "import statsmodels.graphics.api as smg\n",
        "\n",
        "smg.influence_plot(auto_lr2, size=10)\n",
        "\n",
        "#Cook's distance line ที่ระดับ 0.5\n",
        "p = 1 # จำนวนตัวแปรต้น\n",
        "x = np.linspace(0.01, 0.1, 50)\n",
        "plt.plot(x, np.sqrt(0.5*p*(1 - x)/x), color='red', linestyle='dashed')\n",
        "\n",
        "plt.xlim(0,0.1)\n",
        "plt.xlabel('Leverage')\n",
        "plt.ylabel('Standardized residuals')\n",
        "plt.title('Residuals vs Leverage');"
      ]
    },
    {
      "cell_type": "markdown",
      "metadata": {
        "id": "jEyN_naVVKzC"
      },
      "source": [
        "### 6. ทดสอบ multicollinearity\n",
        "\n",
        "ลบตัวแปรที่มีค่า VIF > 10"
      ]
    },
    {
      "cell_type": "code",
      "execution_count": null,
      "metadata": {
        "id": "trjE1AUq5ID3"
      },
      "outputs": [],
      "source": [
        "print(auto_lr3.model.exog)  # matrix of exogenous variables"
      ]
    },
    {
      "cell_type": "code",
      "execution_count": null,
      "metadata": {
        "id": "ZnUGKVoIhKPP"
      },
      "outputs": [],
      "source": [
        "print(auto_lr3.model.exog_names)  # names of exogenous variables"
      ]
    },
    {
      "cell_type": "code",
      "execution_count": null,
      "metadata": {
        "id": "-QbEbw2lpYI-"
      },
      "outputs": [],
      "source": [
        "from statsmodels.stats.outliers_influence import variance_inflation_factor as vif\n",
        "\n",
        "auto_lr4 = smf.ols('I(np.log(mpg)) ~ cylinders \\\n",
        "                                     + displacement \\\n",
        "                                     + horsepower \\\n",
        "                                     + weight \\\n",
        "                                     + acceleration', data=auto).fit()\n",
        "\n",
        "exog = auto_lr4.model.exog\n",
        "exog_names = auto_lr4.model.exog_names\n",
        "\n",
        "for i in range(1,len(exog_names)):\n",
        "    print(exog_names[i], vif(exog, i))"
      ]
    },
    {
      "cell_type": "markdown",
      "metadata": {
        "id": "ZB5KTQSXYm98"
      },
      "source": [
        "### Exercise\n",
        "\n",
        "ดาวน์โหลดข้อมูลรถยนต์ชนิดต่างใน link ข้างล่างนี้\n",
        "https://donlapark.pages.dev/229351/data/Carseats.csv\n",
        "หรือรันโค้ดข้างล่าง"
      ]
    },
    {
      "cell_type": "code",
      "execution_count": null,
      "metadata": {
        "id": "-LrSrCk6BcBM"
      },
      "outputs": [],
      "source": [
        "# Download the file\n",
        "!wget https://donlapark.pages.dev/229351/data/Carseats.csv"
      ]
    },
    {
      "cell_type": "markdown",
      "metadata": {
        "id": "o80RX9roaRaS"
      },
      "source": [
        "\n",
        "Sales\n",
        "\n",
        "    Unit sales (in thousands) at each location\n",
        "CompPrice\n",
        "\n",
        "    Price charged by competitor at each location\n",
        "Income\n",
        "\n",
        "    Community income level (in thousands of dollars)\n",
        "Advertising\n",
        "\n",
        "    Local advertising budget for company at each location (in thousands of dollars)\n",
        "Population\n",
        "\n",
        "    Population size in region (in thousands)\n",
        "Price\n",
        "\n",
        "    Price company charges for car seats at each site\n",
        "ShelveLoc\n",
        "\n",
        "    A factor with levels Bad, Good and Medium indicating the quality of the shelving location for the car seats at each site\n",
        "Age\n",
        "\n",
        "    Average age of the local population\n",
        "Education\n",
        "\n",
        "    Education level at each location\n",
        "Urban\n",
        "\n",
        "    A factor with levels No and Yes to indicate whether the store is in an urban or rural location\n",
        "US\n",
        "\n",
        "    A factor with levels No and Yes to indicate whether the store is in the US or not"
      ]
    },
    {
      "cell_type": "code",
      "execution_count": null,
      "metadata": {
        "id": "1aAV_M9ia3_c"
      },
      "outputs": [],
      "source": [
        "# อ่านไฟล์ csv ก่อนเพื่อหา missing values\n",
        "carseats = pd.read_csv('Carseats.csv')\n",
        "\n",
        "carseats.head()"
      ]
    },
    {
      "cell_type": "code",
      "execution_count": null,
      "metadata": {
        "id": "9aIK3KFEcETA"
      },
      "outputs": [],
      "source": [
        "all_predictors = '+'.join(carseats.columns.drop('Sales')) #ใช้สูตร 'Sales ~' + all_predictors ในการสร้างโมเดล\n",
        "\n",
        "'Sales ~ ' + all_predictors"
      ]
    },
    {
      "cell_type": "markdown",
      "metadata": {
        "id": "5IVY7tWZ3bqn"
      },
      "source": [
        "### Bad = Intercept + other values\n",
        "### Medium = Intercept + other values + ShelveLoc(Med)*1\n",
        "### Good = Intercept + other values + ShelveLoc(Good)*1"
      ]
    },
    {
      "cell_type": "markdown",
      "metadata": {
        "id": "Wn_B07CWfjOS"
      },
      "source": [
        "###จงสร้าง residual plot และ influence plot แล้วตอบคำถามต่อไปนี้\n",
        "\n",
        "1. สมมติว่าตัวแปรอื่นมีค่าเท่ากัน โดยเฉลี่ยแล้ว ยอดขายของเบาะรถที่วางบนชั้นที่มีคุณภาพปานกลาง (ShelveLoc (Medium)) กับชั้นที่มีคุณภาพต่ำ (ShelveLoc (Bad)) ต่างกันอย่างไร ต่างกันเท่าไหร่\n",
        "2. สมมติว่าตัวแปรอื่นมีค่าเท่ากัน โดยเฉลี่ยแล้ว ยอดขายของเบาะรถที่วางบนชั้นที่มีคุณภาพดี (ShelveLoc (Good)) กับชั้นที่มีคุณภาพปานกลาง (ShelveLoc (Medium)) ต่างกันอย่างไร ต่างกันเท่าไหร่\n",
        "3. จงตรวจสอบว่าข้อมูลที่ใช้มีความเหมาะสมกับการสร้าง linear regression หรือไม่ โดยพิจารณาสิ่งต่างๆเหล่านี้พร้อมกับให้เหตุผล  \n",
        "  3.1 Non-linearity  \n",
        "  3.2 Independence of errors  \n",
        "  3.3 Constant variance  \n",
        "  3.4 Outliers  \n",
        "  3.5 Leverage points  \n",
        "  3.6 Multicollinearity\n"
      ]
    },
    {
      "cell_type": "code",
      "source": [
        "carseats_lr = smf.ols('Sales ~ CompPrice+Income+Advertising+Population+Price+ShelveLoc+Age+Education+Urban+US', data=carseats).fit()\n",
        "\n",
        "plt.scatter(carseats_lr.fittedvalues, carseats_lr.resid)\n",
        "plt.title('Residuals vs Fitted')\n",
        "plt.xlabel('Fitted values')\n",
        "plt.ylabel('Residuals')\n",
        "plt.show()"
      ],
      "metadata": {
        "collapsed": true,
        "colab": {
          "base_uri": "https://localhost:8080/",
          "height": 472
        },
        "id": "yHVNV_FyhSg5",
        "outputId": "1ed7300d-944c-4514-e440-1dd0a8ca08a9"
      },
      "execution_count": 27,
      "outputs": [
        {
          "output_type": "display_data",
          "data": {
            "text/plain": [
              "<Figure size 640x480 with 1 Axes>"
            ],
            "image/png": "[encoded data removed]"
          },
          "metadata": {}
        }
      ]
    },
    {
      "cell_type": "code",
      "source": [
        "import statsmodels.graphics.api as smg\n",
        "import numpy as np\n",
        "\n",
        "carseats_lr = smf.ols('Sales ~ CompPrice+Income+Advertising+Population+Price+ShelveLoc+Age+Education+Urban+US', data=carseats).fit()\n",
        "\n",
        "smg.influence_plot(carseats_lr, size=10)\n",
        "plt.title('Residuals vs Leverage')\n",
        "plt.xlabel('Leverage')\n",
        "plt.ylabel('Standardized residuals')\n",
        "\n",
        "p = carseats_lr.df_model + 1\n",
        "x = np.linspace(0.01, 0.1, 50)\n",
        "plt.plot(x, np.sqrt(0.5*p*(1 - x)/x), color='red', linestyle='dashed')\n",
        "\n",
        "plt.xlim(0,0.1)\n",
        "plt.show()"
      ],
      "metadata": {
        "collapsed": true,
        "colab": {
          "base_uri": "https://localhost:8080/",
          "height": 478
        },
        "id": "Q9jL61pKhTG7",
        "outputId": "35cd9469-1f36-4b2b-c865-bb57b6da1b39"
      },
      "execution_count": 28,
      "outputs": [
        {
          "output_type": "display_data",
          "data": {
            "text/plain": [
              "<Figure size 640x480 with 1 Axes>"
            ],
            "image/png": "[encoded data removed]"
          },
          "metadata": {}
        }
      ]
    },
    {
      "cell_type": "markdown",
      "source": [
        "ข้อ1 : โดยเฉลี่ย ชั้นวาง “Medium” มียอดขายสูงกว่า “Bad” ≈ 1.96 หน่วยของ Sales ซึ่งหน่วยของ Sales คือ พันชิ้น ⇒ ประมาณ 1,960 ชิ้นต่อสาขา.\n",
        "\n",
        "ข้อ2 : โดยเฉลี่ย ชั้นวาง “Good” มียอดขายสูงกว่า “Medium” ≈ 2.90 หน่วยของ Sales (หน่วยเป็น พันชิ้น) ⇒ ประมาณ 2,900 ชิ้นต่อสาขา\n",
        "\n",
        "คำนวณจากค่าสัมประสิทธิ์: β_Good − β_Medium ≈ 4.85 − 1.96 = 2.89 (≈ 2.90).\n",
        "\n",
        "ข้อ3 : 3.1 Non-linearity พบว่า residual กระจายรอบศูนย์แบบสุ่มและไม่ปรากฏรูปทรงโค้งหรือแบบแผนชัดเจนใน Residuals vs Fitted ⇒ สอดคล้องกับสมมติฐานความเป็นเส้นตรงของโมเดลเชิงเส้น\n",
        "\n",
        "3.2 Independence of errors ไม่พบลำดับเชิงเวลา/แบบแผนต่อเนื่องของ residual ในกราฟ และข้อมูลเป็นลักษณะ cross-section ⇒ ไม่มีหลักฐานบ่งชี้การละเมิดความเป็นอิสระของส่วนคงค้าง (แนะนำรายงานสถิติ Durbin–Watson หากมีมิติของเวลา)\n",
        "\n",
        "3.3 Constant variance (Homoscedasticity) ความกว้างของการกระจาย residual คงที่โดยประมาณตลอดช่วงค่าพยากรณ์ ไม่ปรากฏลักษณะปากกรวย ⇒ สอดคล้องกับสมมติฐานความแปรปรวนคงที่ (อาจยืนยันด้วย Breusch–Pagan/White test)\n",
        "\n",
        "3.4 Outliers Standardized residual ส่วนใหญ่อยู่ภายในช่วงประมาณ ±3 มีจุดปลายบางจุดเข้าใกล้ขอบดังกล่าว ⇒ มี outlier จำนวนน้อย ควรตรวจสอบรายการข้อมูลรายแถวและทำ sensitivity analysis เมื่อรายงานค่าสัมประสิทธิ์\n",
        "\n",
        "3.5 Leverage points / Influence พบจุดที่มีค่า leverage สูงบางจุด (เช่นดัชนีประมาณ 42 และ 310 ~0.07–0.08) แต่ไม่เกินเกณฑ์เส้นโค้ง Cook’s distance ใน influence plot ⇒ เป็นจุดที่มี leverage สูงแต่ไม่เป็นจุดที่มีอิทธิพลเกินควบคุมต่อแบบจำลองโดยรวม (ควรเฝ้าระวังเมื่อตีความ)\n",
        "\n",
        "3.6 Multicollinearity กราฟที่ให้มาไม่สามารถประเมินได้โดยตรง จำเป็นต้องรายงานค่า Variance Inflation Factor (VIF) ของตัวแปรอิสระ แนะนำเกณฑ์ยอมรับ VIF < 5 (หรือ < 10 ตามแนวปฏิบัติ) และตรวจพิเศษสำหรับตัวแปรที่คาดว่ามีความสัมพันธ์กันสูง เช่น Price และ CompPrice"
      ],
      "metadata": {
        "id": "XD_Iw2Aohanc"
      }
    }
  ],
  "metadata": {
    "colab": {
      "name": "229351-LAB07.ipynb",
      "provenance": []
    },
    "kernelspec": {
      "display_name": "Python 3 (ipykernel)",
      "language": "python",
      "name": "python3"
    },
    "language_info": {
      "codemirror_mode": {
        "name": "ipython",
        "version": 3
      },
      "file_extension": ".py",
      "mimetype": "text/x-python",
      "name": "python",
      "nbconvert_exporter": "python",
      "pygments_lexer": "ipython3",
      "version": "3.10.12"
    }
  },
  "nbformat": 4,
  "nbformat_minor": 0
}